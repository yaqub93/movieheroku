{
 "cells": [
  {
   "cell_type": "code",
   "execution_count": 1,
   "id": "feedfc07",
   "metadata": {},
   "outputs": [
    {
     "name": "stderr",
     "output_type": "stream",
     "text": [
      "c:\\users\\ugvuav\\appdata\\local\\programs\\python\\python38\\lib\\site-packages\\scipy\\__init__.py:146: UserWarning: A NumPy version >=1.16.5 and <1.23.0 is required for this version of SciPy (detected version 1.23.2\n",
      "  warnings.warn(f\"A NumPy version >={np_minversion} and <{np_maxversion}\"\n"
     ]
    }
   ],
   "source": [
    "%matplotlib widget\n",
    "import pandas as pd\n",
    "import matplotlib.pyplot as plt\n",
    "import numpy as np\n",
    "from sklearn.decomposition import TruncatedSVD\n",
    "import autoFill as af\n",
    "from ipywidgets import VBox\n",
    "import requests\n",
    "from PIL import Image as img\n",
    "#from PIL import Image\n",
    "from PIL import ImageFont\n",
    "from PIL import ImageDraw \n",
    "from io import BytesIO\n",
    "from IPython.display import display\n",
    "from ipywidgets import AppLayout\n",
    "# need ipympl\n"
   ]
  },
  {
   "cell_type": "code",
   "execution_count": 2,
   "id": "420e56e0",
   "metadata": {},
   "outputs": [],
   "source": [
    "df_poster = pd.read_csv('poster.csv')"
   ]
  },
  {
   "cell_type": "code",
   "execution_count": 3,
   "id": "3badd930",
   "metadata": {},
   "outputs": [],
   "source": [
    "df_ratings = pd.read_csv('ml-latest-small/ratings.csv')"
   ]
  },
  {
   "cell_type": "code",
   "execution_count": 4,
   "id": "551e0ef9",
   "metadata": {},
   "outputs": [],
   "source": [
    "df_links = pd.read_csv('ml-latest-small/links.csv')"
   ]
  },
  {
   "cell_type": "code",
   "execution_count": 5,
   "id": "46f6f042",
   "metadata": {},
   "outputs": [],
   "source": [
    "df_movies = pd.read_csv('ml-latest-small/movies.csv')"
   ]
  },
  {
   "cell_type": "code",
   "execution_count": 6,
   "id": "a76f284c",
   "metadata": {},
   "outputs": [],
   "source": [
    "def get_poster_by_id(movie_id):\n",
    "    imdb_id = df_links[df_links[\"movieId\"] == movie_id].iloc[0][\"imdbId\"]\n",
    "    return df_poster[df_poster[\"imdbId\"] == imdb_id].iloc[0][\"Poster\"]\n",
    "\n",
    "def title_to_id(title):\n",
    "    return df_movies[df_movies[\"title\"] == title].iloc[0][\"movieId\"]\n",
    "\n",
    "def id_to_title(movie_id):\n",
    "    return df_movies[df_movies[\"movieId\"] == movie_id].iloc[0][\"title\"]\n",
    "\n",
    "def get_list_of_recommendation(mov):\n",
    "    fav_movie_id = title_to_id(mov)\n",
    "    fav_movie_index = movies_list.index(fav_movie_id)\n",
    "    corr_fav_movie = corr_matrix[fav_movie_index]\n",
    "    top_10_idx = np.argsort(corr_fav_movie)[-11:-1]\n",
    "    results = []\n",
    "    for idx in top_10_idx[::-1]:\n",
    "        results.append(id_to_title(movies_list[idx]))\n",
    "    return results\n",
    "\n",
    "rating_utility_matrix = df_ratings.pivot_table(values = 'rating', index = 'userId', columns = 'movieId', fill_value = 0)\n",
    "X = rating_utility_matrix.T\n",
    "\n",
    "SVD = TruncatedSVD(n_components=30)\n",
    "transposed_matrix = SVD.fit_transform(X)\n",
    "corr_matrix = np.corrcoef(transposed_matrix)\n",
    "movies = rating_utility_matrix.columns\n",
    "movies_list =  list(movies)"
   ]
  },
  {
   "cell_type": "code",
   "execution_count": 7,
   "id": "5b4b111e",
   "metadata": {},
   "outputs": [
    {
     "data": {
      "application/vnd.jupyter.widget-view+json": {
       "model_id": "97bfa87fdbd241599510d3344199773b",
       "version_major": 2,
       "version_minor": 0
      },
      "text/plain": [
       "AppLayout(children=(Canvas(footer_visible=False, header_visible=False, layout=Layout(grid_area='center'), tool…"
      ]
     },
     "metadata": {},
     "output_type": "display_data"
    }
   ],
   "source": [
    "\n",
    "plt.ioff()\n",
    "fig, axs = plt.subplots(2,5,figsize=(15, 8))\n",
    "fig.suptitle('10 Movie Recommendation')\n",
    "#fig.canvas.toolbar_visible = False\n",
    "fig.canvas.header_visible = False\n",
    "fig.canvas.footer_visible = False\n",
    "lineimage = []\n",
    "for i in range(2):\n",
    "    for j in range(5):\n",
    "        lineimage.append(None)\n",
    "\n",
    "for i in range(2):\n",
    "    for j in range(5):\n",
    "        axs[i,j].axis(\"off\")\n",
    "        r = requests.get(get_poster_by_id(94))\n",
    "        im = img.open(BytesIO(r.content))\n",
    "        for p in range(im.width):\n",
    "            for q in range(im.height):\n",
    "                im.putpixel((p,q),(0,0,0)) \n",
    "\n",
    "        lineimage[5*i+j] = axs[i,j].imshow(im)\n",
    "\n",
    "def update(value):\n",
    "    #plt.cla()\n",
    "    results = get_list_of_recommendation(value.new)\n",
    "    for i in range(2):\n",
    "        for j in range(5):\n",
    "            axs[i,j].set_title(results[5*i+j],fontsize=8)\n",
    "            try:\n",
    "                r = requests.get(get_poster_by_id(title_to_id(results[5*i+j])))\n",
    "                im = img.open(BytesIO(r.content))\n",
    "                lineimage[5*i+j].set_data(im)\n",
    "            except:\n",
    "                r = requests.get(get_poster_by_id(94))\n",
    "                im = img.open(BytesIO(r.content))\n",
    "                for p in range(im.width):\n",
    "                    for q in range(im.height):\n",
    "                        im.putpixel((p,q),(0,0,0)) \n",
    "\n",
    "                draw = ImageDraw.Draw(im)\n",
    "                font = ImageFont.truetype(\"ABeeZee-Regular.otf\", 24)\n",
    "                title = results[5*i+j].split(' ')\n",
    "                for k in range(len(title)):\n",
    "                    draw.text((5, 5+k*24),title[k],(255,255,255),font=font)\n",
    "                lineimage[5*i+j].set_data(im)\n",
    "            display(5*i+j)\n",
    "    fig.canvas.draw()\n",
    "    fig.canvas.flush_events()\n",
    "\n",
    "options = df_movies[\"title\"].to_list()\n",
    "autofill = af.autoFill(options,callback=update)\n",
    "app=AppLayout(\n",
    "    center=fig.canvas\n",
    ")\n",
    "app"
   ]
  },
  {
   "cell_type": "code",
   "execution_count": 8,
   "id": "5e8244a3",
   "metadata": {},
   "outputs": [
    {
     "data": {
      "application/vnd.jupyter.widget-view+json": {
       "model_id": "5e72a31ab48548eb8cfa0e82e1fc1ada",
       "version_major": 2,
       "version_minor": 0
      },
      "text/plain": [
       "VBox(children=(VBox(children=(Box(children=(Text(value='', placeholder='Please type your favorite movie here..…"
      ]
     },
     "metadata": {},
     "output_type": "display_data"
    }
   ],
   "source": [
    "display(VBox([autofill]))"
   ]
  }
 ],
 "metadata": {
  "kernelspec": {
   "display_name": "Python 3 (ipykernel)",
   "language": "python",
   "name": "python3"
  },
  "language_info": {
   "codemirror_mode": {
    "name": "ipython",
    "version": 3
   },
   "file_extension": ".py",
   "mimetype": "text/x-python",
   "name": "python",
   "nbconvert_exporter": "python",
   "pygments_lexer": "ipython3",
   "version": "3.8.10"
  }
 },
 "nbformat": 4,
 "nbformat_minor": 5
}
